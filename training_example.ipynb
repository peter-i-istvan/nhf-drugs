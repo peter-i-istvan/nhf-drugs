{
 "cells": [
  {
   "cell_type": "markdown",
   "metadata": {},
   "source": [
    "# Milestone 2. and final submission"
   ]
  },
  {
   "cell_type": "markdown",
   "metadata": {},
   "source": [
    "## Installing dependencies"
   ]
  },
  {
   "cell_type": "code",
   "execution_count": 1,
   "metadata": {},
   "outputs": [
    {
     "name": "stdout",
     "output_type": "stream",
     "text": [
      "Note: you may need to restart the kernel to use updated packages.\n"
     ]
    }
   ],
   "source": [
    "%pip install -q torch dgl networkx pandas numpy"
   ]
  },
  {
   "cell_type": "markdown",
   "metadata": {},
   "source": [
    "## Setting hyperparameters"
   ]
  },
  {
   "cell_type": "code",
   "execution_count": 2,
   "metadata": {},
   "outputs": [],
   "source": [
    "epochs = 100\n",
    "features_num = 10\n",
    "hidden1 = 64\n",
    "hidden2 = 32\n",
    "learning_rate = 0.05"
   ]
  },
  {
   "cell_type": "code",
   "execution_count": 3,
   "metadata": {},
   "outputs": [],
   "source": [
    "# Set torch device\n",
    "import torch\n",
    "\n",
    "device = torch.device(\"cpu\") # training on CPU because of runtime errors"
   ]
  },
  {
   "cell_type": "markdown",
   "metadata": {},
   "source": [
    "## Defining the model according to the code from [`dmlc/dgl`](https://github.com/dmlc/dgl)\n",
    "\n",
    "The code below will be taken from the reference implementation in the Deep Learning Graph Library (DGL). It follows the architecture shown in the source article."
   ]
  },
  {
   "cell_type": "code",
   "execution_count": 4,
   "metadata": {},
   "outputs": [],
   "source": [
    "import torch.nn as nn\n",
    "import torch.nn.functional as F\n",
    "from dgl.nn.pytorch import GraphConv # must be installed with pip\n",
    "\n",
    "class VGAEModel(nn.Module):\n",
    "    def __init__(self, in_dim, hidden1_dim, hidden2_dim):\n",
    "        super(VGAEModel, self).__init__()\n",
    "        self.in_dim = in_dim\n",
    "        self.hidden1_dim = hidden1_dim\n",
    "        self.hidden2_dim = hidden2_dim\n",
    "\n",
    "        layers = [\n",
    "            GraphConv(\n",
    "                self.in_dim,\n",
    "                self.hidden1_dim,\n",
    "                activation=F.relu,\n",
    "                allow_zero_in_degree=True,\n",
    "            ),\n",
    "            GraphConv(\n",
    "                self.hidden1_dim,\n",
    "                self.hidden2_dim,\n",
    "                activation=lambda x: x,\n",
    "                allow_zero_in_degree=True,\n",
    "            ),\n",
    "            GraphConv(\n",
    "                self.hidden1_dim,\n",
    "                self.hidden2_dim,\n",
    "                activation=lambda x: x,\n",
    "                allow_zero_in_degree=True,\n",
    "            ),\n",
    "        ]\n",
    "        self.layers = nn.ModuleList(layers)\n",
    "\n",
    "    def encoder(self, g, features):\n",
    "        h = self.layers[0](g, features)\n",
    "        self.mean = self.layers[1](g, h)\n",
    "        self.log_std = self.layers[2](g, h)\n",
    "        gaussian_noise = torch.randn(features.size(0), self.hidden2_dim).to(\n",
    "            device\n",
    "        )\n",
    "        sampled_z = self.mean + gaussian_noise * torch.exp(self.log_std).to(\n",
    "            device\n",
    "        )\n",
    "        return sampled_z\n",
    "\n",
    "    def decoder(self, z):\n",
    "        adj_rec = torch.sigmoid(torch.matmul(z, z.t()))\n",
    "        return adj_rec\n",
    "\n",
    "    def forward(self, g, features):\n",
    "        z = self.encoder(g, features)\n",
    "        adj_rec = self.decoder(z)\n",
    "        return adj_rec"
   ]
  },
  {
   "cell_type": "markdown",
   "metadata": {},
   "source": [
    "## Helper functions for data preprocessing "
   ]
  },
  {
   "cell_type": "code",
   "execution_count": 5,
   "metadata": {},
   "outputs": [],
   "source": [
    "import scipy.sparse as sp\n",
    "import numpy as np\n",
    "\n",
    "def sparse_to_tuple(sparse_mx):\n",
    "    if not sp.isspmatrix_coo(sparse_mx):\n",
    "        sparse_mx = sparse_mx.tocoo()\n",
    "    coords = np.vstack((sparse_mx.row, sparse_mx.col)).transpose()\n",
    "    values = sparse_mx.data\n",
    "    shape = sparse_mx.shape\n",
    "    return coords, values, shape\n",
    "\n",
    "def mask_test_edges(adj):\n",
    "    # Remove diagonal elements\n",
    "    adj = adj - sp.dia_matrix(\n",
    "        (adj.diagonal()[np.newaxis, :], [0]), shape=adj.shape\n",
    "    )\n",
    "    adj.eliminate_zeros()\n",
    "    # Check that diag is zero:\n",
    "    assert np.diag(adj.todense()).sum() == 0\n",
    "\n",
    "    adj_triu = sp.triu(adj)\n",
    "    adj_tuple = sparse_to_tuple(adj_triu)\n",
    "    edges = adj_tuple[0]\n",
    "    edges_all = sparse_to_tuple(adj)[0]\n",
    "    num_test = int(np.floor(edges.shape[0] / 10.0))\n",
    "    num_val = int(np.floor(edges.shape[0] / 20.0))\n",
    "\n",
    "    all_edge_idx = list(range(edges.shape[0]))\n",
    "    np.random.shuffle(all_edge_idx)\n",
    "    val_edge_idx = all_edge_idx[:num_val]\n",
    "    test_edge_idx = all_edge_idx[num_val : (num_val + num_test)]\n",
    "    test_edges = edges[test_edge_idx]\n",
    "    val_edges = edges[val_edge_idx]\n",
    "    train_edges = np.delete(\n",
    "        edges, np.hstack([test_edge_idx, val_edge_idx]), axis=0\n",
    "    )\n",
    "\n",
    "    def ismember(a, b, tol=5):\n",
    "        rows_close = np.all(np.round(a - b[:, None], tol) == 0, axis=-1)\n",
    "        return np.any(rows_close)\n",
    "\n",
    "    test_edges_false = []\n",
    "    while len(test_edges_false) < len(test_edges):\n",
    "        idx_i = np.random.randint(0, adj.shape[0])\n",
    "        idx_j = np.random.randint(0, adj.shape[0])\n",
    "        if idx_i == idx_j:\n",
    "            continue\n",
    "        if ismember([idx_i, idx_j], edges_all):\n",
    "            continue\n",
    "        if test_edges_false:\n",
    "            if ismember([idx_j, idx_i], np.array(test_edges_false)):\n",
    "                continue\n",
    "            if ismember([idx_i, idx_j], np.array(test_edges_false)):\n",
    "                continue\n",
    "        test_edges_false.append([idx_i, idx_j])\n",
    "\n",
    "    val_edges_false = []\n",
    "    while len(val_edges_false) < len(val_edges):\n",
    "        idx_i = np.random.randint(0, adj.shape[0])\n",
    "        idx_j = np.random.randint(0, adj.shape[0])\n",
    "        if idx_i == idx_j:\n",
    "            continue\n",
    "        if ismember([idx_i, idx_j], train_edges):\n",
    "            continue\n",
    "        if ismember([idx_j, idx_i], train_edges):\n",
    "            continue\n",
    "        if ismember([idx_i, idx_j], val_edges):\n",
    "            continue\n",
    "        if ismember([idx_j, idx_i], val_edges):\n",
    "            continue\n",
    "        if val_edges_false:\n",
    "            if ismember([idx_j, idx_i], np.array(val_edges_false)):\n",
    "                continue\n",
    "            if ismember([idx_i, idx_j], np.array(val_edges_false)):\n",
    "                continue\n",
    "        val_edges_false.append([idx_i, idx_j])\n",
    "\n",
    "    data = np.ones(train_edges.shape[0])\n",
    "\n",
    "    # Re-build adj matrix\n",
    "    adj_train = sp.csr_matrix(\n",
    "        (data, (train_edges[:, 0], train_edges[:, 1])), shape=adj.shape\n",
    "    )\n",
    "    adj_train = adj_train + adj_train.T\n",
    "\n",
    "    return (\n",
    "        adj_train,\n",
    "        train_edges,\n",
    "        val_edges,\n",
    "        val_edges_false,\n",
    "        test_edges,\n",
    "        test_edges_false,\n",
    "    )\n",
    "\n",
    "def preprocess_graph(adj):\n",
    "    adj = sp.coo_matrix(adj)\n",
    "    adj_ = adj + sp.eye(adj.shape[0])\n",
    "    rowsum = np.array(adj_.sum(1))\n",
    "    degree_mat_inv_sqrt = sp.diags(np.power(rowsum, -0.5).flatten())\n",
    "    adj_normalized = (\n",
    "        adj_.dot(degree_mat_inv_sqrt)\n",
    "        .transpose()\n",
    "        .dot(degree_mat_inv_sqrt)\n",
    "        .tocoo()\n",
    "    )\n",
    "    return adj_normalized, sparse_to_tuple(adj_normalized)"
   ]
  },
  {
   "cell_type": "markdown",
   "metadata": {},
   "source": [
    "## Loading our data\n",
    "\n",
    "The `load_data` function uses our own data as reference. It expects the `data/` folder to have a `features.csv` (see Milestone I.)"
   ]
  },
  {
   "cell_type": "code",
   "execution_count": 6,
   "metadata": {},
   "outputs": [],
   "source": [
    "import numpy as np\n",
    "import pickle as pkl\n",
    "import networkx as nx\n",
    "import scipy.sparse as sp\n",
    "import pandas as pd\n",
    "\n",
    "\n",
    "def load_data():\n",
    "\n",
    "    data = pd.read_csv(\"data/features.csv\", header = None)\n",
    "    data[0] = data[0].str.lstrip(\"D, B, 0\")\n",
    "    data[0] = data[0].astype('int')\n",
    "    adj2 = data[0].copy()\n",
    "    data = data.set_index(data.columns[0])\n",
    "    sp.csr_matrix(data.values)\n",
    "\n",
    "    graph2 = pd.read_csv(\"db/ChCh-Miner_durgbank-chem-chem.tsv.gz\", header = None)\n",
    "    graph = graph2.copy()\n",
    "    graph[0] = graph2[0].str.split('\\t').str[0]\n",
    "    graph[1] = graph2[0].str.split('\\t').str[1]\n",
    "    graph[0] = graph[0].str.lstrip(\"D, B, 0\")\n",
    "    graph[0] = graph[0].astype('int')\n",
    "    graph[1] = graph[1].str.lstrip(\"D, B, 0\")\n",
    "    graph[1] = graph[1].astype('int')\n",
    "    graph\n",
    "\n",
    "    adj = pd.DataFrame(adj2)\n",
    "    adj = adj.set_index(adj.columns[0])\n",
    "    adj[0] = np.empty((len(adj), 0)).tolist()\n",
    "\n",
    "    for g in graph.iterrows():\n",
    "        if g[1][0] in adj.index:\n",
    "            if g[1][1] in adj.index:\n",
    "                adj[0].loc[g[1][0]].insert(g[1][0],g[1][1])\n",
    "                adj[0].loc[g[1][1]].insert(g[1][1],g[1][0])\n",
    "\n",
    "    for a in adj.iterrows():\n",
    "        if a[1][0] == []:\n",
    "            adj = adj.drop(index = a[0])\n",
    "            data = data.drop(index = a[0])\n",
    "\n",
    "    features = sp.csr_matrix(data.values)/100.0\n",
    "    adj_dict = pd.Series(adj[0], index = adj.index).to_dict()\n",
    "    adjacency = nx.adjacency_matrix(nx.from_dict_of_lists(adj_dict))\n",
    "\n",
    "    return adjacency, features"
   ]
  },
  {
   "cell_type": "markdown",
   "metadata": {},
   "source": [
    "Preprocessing steps mainly taken from the repository."
   ]
  },
  {
   "cell_type": "code",
   "execution_count": 7,
   "metadata": {},
   "outputs": [
    {
     "name": "stderr",
     "output_type": "stream",
     "text": [
      "/tmp/ipykernel_15713/964416747.py:44: FutureWarning: adjacency_matrix will return a scipy.sparse array instead of a matrix in Networkx 3.0.\n",
      "  adjacency = nx.adjacency_matrix(nx.from_dict_of_lists(adj_dict))\n"
     ]
    }
   ],
   "source": [
    "import dgl\n",
    "\n",
    "adj, features = load_data()\n",
    "features = sparse_to_tuple(features.tocoo())\n",
    "\n",
    "# Store original adjacency matrix (without diagonal entries) for later\n",
    "adj_orig = adj\n",
    "adj_orig = adj_orig - sp.dia_matrix(\n",
    "    (\n",
    "        adj_orig.diagonal()[np.newaxis, :], [0]\n",
    "    ), shape=adj_orig.shape\n",
    ")\n",
    "adj_orig.eliminate_zeros()\n",
    "\n",
    "(\n",
    "    adj_train,\n",
    "    train_edges,\n",
    "    val_edges,\n",
    "    val_edges_false,\n",
    "    test_edges,\n",
    "    test_edges_false,\n",
    ") = mask_test_edges(adj)\n",
    "adj = adj_train\n",
    "\n",
    "# Some preprocessing\n",
    "adj_normalization, adj_norm = preprocess_graph(adj)\n",
    "\n",
    "    # Create model\n",
    "graph = dgl.from_scipy(adj_normalization)\n",
    "graph.add_self_loop()\n",
    "\n",
    "    # Create Model\n",
    "pos_weight = float(adj.shape[0] * adj.shape[0] - adj.sum()) / adj.sum()\n",
    "norm = (\n",
    "    adj.shape[0]\n",
    "    * adj.shape[0]\n",
    "    / float((adj.shape[0] * adj.shape[0] - adj.sum()) * 2)\n",
    ")\n",
    "\n",
    "adj_label = adj_train + sp.eye(adj_train.shape[0])\n",
    "adj_label = sparse_to_tuple(adj_label)\n",
    "\n",
    "adj_norm = torch.sparse.FloatTensor(\n",
    "    torch.LongTensor(adj_norm[0].T),\n",
    "    torch.FloatTensor(adj_norm[1]),\n",
    "    torch.Size(adj_norm[2]),\n",
    ")\n",
    "adj_label = torch.sparse.FloatTensor(\n",
    "    torch.LongTensor(adj_label[0].T),\n",
    "    torch.FloatTensor(adj_label[1]),\n",
    "    torch.Size(adj_label[2]),\n",
    ")\n",
    "features = torch.sparse.FloatTensor(\n",
    "    torch.LongTensor(features[0].T),\n",
    "    torch.FloatTensor(features[1]),\n",
    "    torch.Size(features[2]),\n",
    ")\n",
    "\n",
    "weight_mask = adj_label.to_dense().view(-1) == 1\n",
    "weight_tensor = torch.ones(weight_mask.size(0))\n",
    "weight_tensor[weight_mask] = pos_weight\n",
    "\n",
    "features = features.to_dense()\n",
    "features_num = features.shape[-1]\n",
    "\n",
    "def get_scores(edges_pos, edges_neg, adj_rec):\n",
    "        def sigmoid(x):\n",
    "            return 1 / (1 + np.exp(-x))\n",
    "\n",
    "        # Predict on test set of edges\n",
    "        preds = []\n",
    "        pos = []\n",
    "        for e in edges_pos:\n",
    "            # print(e)\n",
    "            # print(adj_rec[e[0], e[1]])\n",
    "            preds.append(sigmoid(adj_rec[e[0], e[1]].item()))\n",
    "            pos.append(adj_orig[e[0], e[1]])\n",
    "\n",
    "        preds_neg = []\n",
    "        neg = []\n",
    "        for e in edges_neg:\n",
    "            preds_neg.append(sigmoid(adj_rec[e[0], e[1]].data))\n",
    "            neg.append(adj_orig[e[0], e[1]])\n",
    "\n",
    "        preds_all = np.hstack([preds, preds_neg])\n",
    "        labels_all = np.hstack([np.ones(len(preds)), np.zeros(len(preds_neg))])\n",
    "        roc_score = roc_auc_score(labels_all, preds_all)\n",
    "        ap_score = average_precision_score(labels_all, preds_all)\n",
    "\n",
    "        return roc_score, ap_score\n",
    "\n",
    "\n",
    "def get_acc(adj_rec, adj_label):\n",
    "    labels_all = adj_label.to_dense().view(-1).long()\n",
    "    preds_all = (adj_rec > 0.5).view(-1).long()\n",
    "    accuracy = (preds_all == labels_all).sum().float() / labels_all.size(0)\n",
    "    return accuracy"
   ]
  },
  {
   "cell_type": "markdown",
   "metadata": {},
   "source": [
    "## Creating the model and the optimizer"
   ]
  },
  {
   "cell_type": "code",
   "execution_count": 8,
   "metadata": {},
   "outputs": [],
   "source": [
    "vgae_model = VGAEModel(features_num, hidden1, hidden2)\n",
    "# create training component\n",
    "optimizer = torch.optim.Adam(vgae_model.parameters(), lr=learning_rate)"
   ]
  },
  {
   "cell_type": "code",
   "execution_count": 9,
   "metadata": {},
   "outputs": [
    {
     "name": "stdout",
     "output_type": "stream",
     "text": [
      "Epoch: 1\ttrain_loss=1303774101504.00000, train_acc=0.29212 val_roc=0.60977 val_ap=0.62195\n",
      "Epoch: 2\ttrain_loss=19.28231, train_acc=0.07036 val_roc=0.60760 val_ap=0.66388\n",
      "Epoch: 3\ttrain_loss=10.61308, train_acc=0.08775 val_roc=0.69377 val_ap=0.67517\n",
      "Epoch: 4\ttrain_loss=24.35863, train_acc=0.12883 val_roc=0.69993 val_ap=0.67867\n",
      "Epoch: 5\ttrain_loss=13.02231, train_acc=0.05617 val_roc=0.70329 val_ap=0.69988\n",
      "Epoch: 6\ttrain_loss=7.84414, train_acc=0.05987 val_roc=0.77969 val_ap=0.74938\n",
      "Epoch: 7\ttrain_loss=7.06728, train_acc=0.06863 val_roc=0.79931 val_ap=0.76991\n",
      "Epoch: 8\ttrain_loss=6.19242, train_acc=0.07543 val_roc=0.76538 val_ap=0.71530\n",
      "Epoch: 9\ttrain_loss=11.16459, train_acc=0.05725 val_roc=0.71786 val_ap=0.70137\n",
      "Epoch: 10\ttrain_loss=4073.03662, train_acc=0.09421 val_roc=0.73830 val_ap=0.70388\n",
      "Epoch: 11\ttrain_loss=68004.31250, train_acc=0.11162 val_roc=0.80225 val_ap=0.74071\n",
      "Epoch: 12\ttrain_loss=6432092019752960.00000, train_acc=0.12540 val_roc=0.80275 val_ap=0.74456\n",
      "Epoch: 13\ttrain_loss=5.23537, train_acc=0.12825 val_roc=0.83558 val_ap=0.80191\n",
      "Epoch: 14\ttrain_loss=4.14244, train_acc=0.14852 val_roc=0.82648 val_ap=0.77098\n",
      "Epoch: 15\ttrain_loss=4.18096, train_acc=0.18615 val_roc=0.78200 val_ap=0.71213\n",
      "Epoch: 16\ttrain_loss=5.06093, train_acc=0.17683 val_roc=0.77244 val_ap=0.70604\n",
      "Epoch: 17\ttrain_loss=5.54010, train_acc=0.16024 val_roc=0.78762 val_ap=0.72777\n",
      "Epoch: 18\ttrain_loss=4.25942, train_acc=0.22094 val_roc=0.79216 val_ap=0.73075\n",
      "Epoch: 19\ttrain_loss=3.35913, train_acc=0.28588 val_roc=0.75531 val_ap=0.70253\n",
      "Epoch: 20\ttrain_loss=4.23055, train_acc=0.22173 val_roc=0.79444 val_ap=0.73334\n",
      "Epoch: 21\ttrain_loss=4.22892, train_acc=0.22339 val_roc=0.79040 val_ap=0.72808\n",
      "Epoch: 22\ttrain_loss=3.66071, train_acc=0.26714 val_roc=0.76006 val_ap=0.70249\n",
      "Epoch: 23\ttrain_loss=3.86987, train_acc=0.23351 val_roc=0.78027 val_ap=0.71795\n",
      "Epoch: 24\ttrain_loss=3.73897, train_acc=0.23064 val_roc=0.79143 val_ap=0.72633\n",
      "Epoch: 25\ttrain_loss=2.96022, train_acc=0.29739 val_roc=0.76946 val_ap=0.71367\n",
      "Epoch: 26\ttrain_loss=3.15651, train_acc=0.23154 val_roc=0.80819 val_ap=0.74500\n",
      "Epoch: 27\ttrain_loss=2.93524, train_acc=0.23349 val_roc=0.80109 val_ap=0.73746\n",
      "Epoch: 28\ttrain_loss=2.41188, train_acc=0.30907 val_roc=0.73079 val_ap=0.68013\n",
      "Epoch: 29\ttrain_loss=2.81575, train_acc=0.18270 val_roc=0.81761 val_ap=0.74943\n",
      "Epoch: 30\ttrain_loss=2.10373, train_acc=0.24758 val_roc=0.79342 val_ap=0.73699\n",
      "Epoch: 31\ttrain_loss=2.28131, train_acc=0.20682 val_roc=0.81615 val_ap=0.75047\n",
      "Epoch: 32\ttrain_loss=1.87035, train_acc=0.26392 val_roc=0.80944 val_ap=0.74818\n",
      "Epoch: 33\ttrain_loss=2.06100, train_acc=0.17701 val_roc=0.83257 val_ap=0.77064\n",
      "Epoch: 34\ttrain_loss=3.13221, train_acc=0.20827 val_roc=0.81812 val_ap=0.75469\n",
      "Epoch: 35\ttrain_loss=1.66714, train_acc=0.19046 val_roc=0.82700 val_ap=0.76905\n",
      "Epoch: 36\ttrain_loss=1.52548, train_acc=0.20981 val_roc=0.82279 val_ap=0.77202\n",
      "Epoch: 37\ttrain_loss=1.58878, train_acc=0.19066 val_roc=0.82109 val_ap=0.76465\n",
      "Epoch: 38\ttrain_loss=1.36862, train_acc=0.20744 val_roc=0.82846 val_ap=0.77600\n",
      "Epoch: 39\ttrain_loss=1.37335, train_acc=0.16864 val_roc=0.83788 val_ap=0.79593\n",
      "Epoch: 40\ttrain_loss=1.22940, train_acc=0.20672 val_roc=0.83209 val_ap=0.78391\n",
      "Epoch: 41\ttrain_loss=1.66177, train_acc=0.10748 val_roc=0.81476 val_ap=0.75989\n",
      "Epoch: 42\ttrain_loss=1.31071, train_acc=0.13377 val_roc=0.83448 val_ap=0.78379\n",
      "Epoch: 43\ttrain_loss=1.47977, train_acc=0.09983 val_roc=0.83535 val_ap=0.80149\n",
      "Epoch: 44\ttrain_loss=1.41882, train_acc=0.09878 val_roc=0.82518 val_ap=0.78756\n",
      "Epoch: 45\ttrain_loss=1.38379, train_acc=0.09953 val_roc=0.79830 val_ap=0.74595\n",
      "Epoch: 46\ttrain_loss=1.41572, train_acc=0.06793 val_roc=0.82098 val_ap=0.76944\n",
      "Epoch: 47\ttrain_loss=1.13420, train_acc=0.13959 val_roc=0.84589 val_ap=0.81390\n",
      "Epoch: 48\ttrain_loss=1.53235, train_acc=0.06572 val_roc=0.82399 val_ap=0.78974\n",
      "Epoch: 49\ttrain_loss=1.24031, train_acc=0.07549 val_roc=0.82757 val_ap=0.78112\n",
      "Epoch: 50\ttrain_loss=1.84118, train_acc=0.04796 val_roc=0.79517 val_ap=0.73763\n",
      "Epoch: 51\ttrain_loss=1.40018, train_acc=0.07912 val_roc=0.79964 val_ap=0.74610\n",
      "Epoch: 52\ttrain_loss=1.88791, train_acc=0.05380 val_roc=0.81966 val_ap=0.78526\n",
      "Epoch: 53\ttrain_loss=1.33136, train_acc=0.07334 val_roc=0.82581 val_ap=0.78495\n",
      "Epoch: 54\ttrain_loss=1.95941, train_acc=0.05015 val_roc=0.79805 val_ap=0.74174\n",
      "Epoch: 55\ttrain_loss=1.30922, train_acc=0.12243 val_roc=0.81789 val_ap=0.76555\n",
      "Epoch: 56\ttrain_loss=2.02175, train_acc=0.05408 val_roc=0.81214 val_ap=0.76818\n",
      "Epoch: 57\ttrain_loss=1.24506, train_acc=0.10796 val_roc=0.82826 val_ap=0.78580\n",
      "Epoch: 58\ttrain_loss=2.26133, train_acc=0.04101 val_roc=0.80597 val_ap=0.76022\n",
      "Epoch: 59\ttrain_loss=1.25076, train_acc=0.15182 val_roc=0.83261 val_ap=0.78568\n",
      "Epoch: 60\ttrain_loss=2.86586, train_acc=0.04866 val_roc=0.79480 val_ap=0.73947\n",
      "Epoch: 61\ttrain_loss=1.49695, train_acc=0.10717 val_roc=0.79836 val_ap=0.73411\n",
      "Epoch: 62\ttrain_loss=1.95815, train_acc=0.05907 val_roc=0.83604 val_ap=0.79759\n",
      "Epoch: 63\ttrain_loss=1.42321, train_acc=0.12300 val_roc=0.84279 val_ap=0.80652\n",
      "Epoch: 64\ttrain_loss=1.94531, train_acc=0.08735 val_roc=0.78929 val_ap=0.72586\n",
      "Epoch: 65\ttrain_loss=1.54506, train_acc=0.12135 val_roc=0.82489 val_ap=0.76433\n",
      "Epoch: 66\ttrain_loss=1.46293, train_acc=0.13319 val_roc=0.84893 val_ap=0.81211\n",
      "Epoch: 67\ttrain_loss=1.38341, train_acc=0.14741 val_roc=0.83640 val_ap=0.78893\n",
      "Epoch: 68\ttrain_loss=1.46626, train_acc=0.14950 val_roc=0.82190 val_ap=0.76769\n",
      "Epoch: 69\ttrain_loss=1.42215, train_acc=0.15375 val_roc=0.83503 val_ap=0.78768\n",
      "Epoch: 70\ttrain_loss=1.30857, train_acc=0.19791 val_roc=0.83220 val_ap=0.78043\n",
      "Epoch: 71\ttrain_loss=1.48045, train_acc=0.14011 val_roc=0.83521 val_ap=0.78066\n",
      "Epoch: 72\ttrain_loss=1.27798, train_acc=0.19950 val_roc=0.83584 val_ap=0.79027\n",
      "Epoch: 73\ttrain_loss=1.34584, train_acc=0.17783 val_roc=0.83934 val_ap=0.79272\n",
      "Epoch: 74\ttrain_loss=1.28503, train_acc=0.22963 val_roc=0.80995 val_ap=0.76287\n",
      "Epoch: 75\ttrain_loss=1.52702, train_acc=0.14684 val_roc=0.82520 val_ap=0.77460\n",
      "Epoch: 76\ttrain_loss=1.22189, train_acc=0.24085 val_roc=0.81942 val_ap=0.77686\n",
      "Epoch: 77\ttrain_loss=2.00828, train_acc=0.07769 val_roc=0.82789 val_ap=0.77672\n",
      "Epoch: 78\ttrain_loss=2.18024, train_acc=0.06602 val_roc=0.81198 val_ap=0.75477\n",
      "Epoch: 79\ttrain_loss=1.26619, train_acc=0.19236 val_roc=0.82557 val_ap=0.78064\n",
      "Epoch: 80\ttrain_loss=1.97714, train_acc=0.07248 val_roc=0.83473 val_ap=0.78612\n",
      "Epoch: 81\ttrain_loss=1.38793, train_acc=0.19184 val_roc=0.82843 val_ap=0.77695\n",
      "Epoch: 82\ttrain_loss=2.32858, train_acc=0.05870 val_roc=0.81306 val_ap=0.75728\n",
      "Epoch: 83\ttrain_loss=1.54393, train_acc=0.10898 val_roc=0.83601 val_ap=0.78275\n",
      "Epoch: 84\ttrain_loss=1.91069, train_acc=0.08124 val_roc=0.83654 val_ap=0.78680\n",
      "Epoch: 85\ttrain_loss=1.59598, train_acc=0.13835 val_roc=0.83131 val_ap=0.78316\n",
      "Epoch: 86\ttrain_loss=1.74218, train_acc=0.08774 val_roc=0.82643 val_ap=0.76918\n",
      "Epoch: 87\ttrain_loss=1.60544, train_acc=0.10654 val_roc=0.82856 val_ap=0.77008\n",
      "Epoch: 88\ttrain_loss=1.52292, train_acc=0.13047 val_roc=0.84215 val_ap=0.79407\n",
      "Epoch: 89\ttrain_loss=1.42603, train_acc=0.16764 val_roc=0.83887 val_ap=0.79365\n",
      "Epoch: 90\ttrain_loss=1.42614, train_acc=0.16419 val_roc=0.83340 val_ap=0.78292\n",
      "Epoch: 91\ttrain_loss=1.44135, train_acc=0.13693 val_roc=0.83348 val_ap=0.77820\n",
      "Epoch: 92\ttrain_loss=1.36249, train_acc=0.16164 val_roc=0.83114 val_ap=0.77828\n",
      "Epoch: 93\ttrain_loss=1.34445, train_acc=0.17790 val_roc=0.83514 val_ap=0.78795\n",
      "Epoch: 94\ttrain_loss=1.27238, train_acc=0.20865 val_roc=0.83552 val_ap=0.79123\n",
      "Epoch: 95\ttrain_loss=1.28454, train_acc=0.20958 val_roc=0.83067 val_ap=0.78719\n",
      "Epoch: 96\ttrain_loss=1.23465, train_acc=0.23329 val_roc=0.82468 val_ap=0.77660\n",
      "Epoch: 97\ttrain_loss=1.31900, train_acc=0.17169 val_roc=0.83191 val_ap=0.78175\n",
      "Epoch: 98\ttrain_loss=1.19875, train_acc=0.26457 val_roc=0.78127 val_ap=0.73926\n",
      "Epoch: 99\ttrain_loss=1.26659, train_acc=0.18070 val_roc=0.83253 val_ap=0.79019\n",
      "Epoch: 100\ttrain_loss=1.14794, train_acc=0.27111 val_roc=0.81969 val_ap=0.77694\n",
      "End of training!\n",
      "test_roc=0.80729\n",
      "test_ap=0.77076\n"
     ]
    }
   ],
   "source": [
    "from sklearn.metrics import average_precision_score, roc_auc_score\n",
    "\n",
    "train_accs = []\n",
    "val_rocs = []\n",
    "val_aps = []\n",
    "losses = []\n",
    "\n",
    "torch.manual_seed(42) # reproducibility\n",
    "\n",
    "for epoch in range(epochs):\n",
    "\n",
    "    # Training and validation using a full graph\n",
    "    vgae_model.train()\n",
    "    logits = vgae_model.forward(graph, features)\n",
    "\n",
    "    # compute loss\n",
    "    loss = norm * F.binary_cross_entropy(\n",
    "        logits.view(-1), adj_label.to_dense().view(-1), weight=weight_tensor\n",
    "    )\n",
    "    kl_divergence = (\n",
    "        0.5\n",
    "        / logits.size(0)\n",
    "        * (\n",
    "            1\n",
    "            + 2 * vgae_model.log_std\n",
    "            - vgae_model.mean**2\n",
    "            - torch.exp(vgae_model.log_std) ** 2\n",
    "        )\n",
    "        .sum(1)\n",
    "        .mean()\n",
    "    )\n",
    "    loss -= kl_divergence\n",
    "\n",
    "    losses.append(loss.detach().numpy())\n",
    "\n",
    "    # backward\n",
    "    optimizer.zero_grad()\n",
    "    loss.backward()\n",
    "    optimizer.step()\n",
    "\n",
    "    train_acc = get_acc(logits, adj_label)\n",
    "    train_accs.append(train_acc)\n",
    "    val_roc, val_ap = get_scores(val_edges, val_edges_false, logits)\n",
    "    val_rocs.append(val_roc)\n",
    "    val_aps.append(val_ap)\n",
    "    print(f'Epoch: {epoch+1}\\ttrain_loss={loss.item():.5f}, train_acc={train_acc:.5f} val_roc={val_roc:.5f} val_ap={val_ap:.5f}')\n",
    "\n",
    "test_roc, test_ap = get_scores(test_edges, test_edges_false, logits)\n",
    "print(\n",
    "    f'End of training!\\ntest_roc={test_roc:.5f}\\ntest_ap={test_ap:.5f}'\n",
    ")"
   ]
  },
  {
   "cell_type": "code",
   "execution_count": 10,
   "metadata": {},
   "outputs": [
    {
     "name": "stdout",
     "output_type": "stream",
     "text": [
      "Final area under the ROC curve (AUC): 0.8196948650846502\n",
      "Final avarage precision (AP): 0.7769435283305005\n"
     ]
    }
   ],
   "source": [
    "print(\"Final area under the ROC curve (AUC):\" , val_roc)\n",
    "print(\"Final avarage precision (AP):\", val_ap)"
   ]
  },
  {
   "cell_type": "markdown",
   "metadata": {},
   "source": [
    "## Training statistics"
   ]
  },
  {
   "cell_type": "code",
   "execution_count": 11,
   "metadata": {},
   "outputs": [
    {
     "data": {
      "image/png": "[encoded data removed]",
      "text/plain": [
       "<Figure size 640x480 with 1 Axes>"
      ]
     },
     "metadata": {},
     "output_type": "display_data"
    }
   ],
   "source": [
    "import matplotlib.pyplot as plt\n",
    "\n",
    "plt.title(\"Training statistics\")\n",
    "plt.plot(train_accs, label='train accuracy')\n",
    "plt.plot(val_aps, label='validation AP')\n",
    "plt.plot(val_rocs, label='validation ROC')\n",
    "plt.legend(loc=\"center left\")\n",
    "plt.show()"
   ]
  },
  {
   "cell_type": "code",
   "execution_count": 12,
   "metadata": {},
   "outputs": [
    {
     "data": {
      "text/plain": [
       "[<matplotlib.lines.Line2D at 0x7f4561566830>]"
      ]
     },
     "execution_count": 12,
     "metadata": {},
     "output_type": "execute_result"
    },
    {
     "data": {
      "image/png": "[encoded data removed]",
      "text/plain": [
       "<Figure size 640x480 with 1 Axes>"
      ]
     },
     "metadata": {},
     "output_type": "display_data"
    }
   ],
   "source": [
    "plt.clf()\n",
    "plt.title('Training loss')\n",
    "plt.yscale('log')\n",
    "plt.plot(losses)"
   ]
  },
  {
   "cell_type": "markdown",
   "metadata": {},
   "source": [
    "In this subject area the most common evaluations are the AUC (area under the ROC curve) and AP (avarage precision).\n",
    "The AP on the first epoch was close to 50 %, meaning it was almost random, but for the 10th epoch it became 60% (which isn`t too much, but it will be better).\n",
    "\n",
    "For more evaluation we choose the AUC metric. The reason behind it is, that the most important part of the project is to find all the interactions between drugs correctly if possible. So this metric checks that how precise is an interaction predicted by us. Meaning, if we predicted that between two drugs there is an interaction, what is the chance that there really is one. We chose this because it focuses on the finding more edges correctly, rather than finding non-edges correctly. \n",
    "As seen above this metric also went above 50% after a few epochs so it is working correctly. "
   ]
  },
  {
   "cell_type": "markdown",
   "metadata": {},
   "source": []
  },
  {
   "cell_type": "markdown",
   "metadata": {},
   "source": []
  }
 ],
 "metadata": {
  "kernelspec": {
   "display_name": "Python 3.10.8 ('venv': venv)",
   "language": "python",
   "name": "python3"
  },
  "language_info": {
   "codemirror_mode": {
    "name": "ipython",
    "version": 3
   },
   "file_extension": ".py",
   "mimetype": "text/x-python",
   "name": "python",
   "nbconvert_exporter": "python",
   "pygments_lexer": "ipython3",
   "version": "3.10.8"
  },
  "vscode": {
   "interpreter": {
    "hash": "e24387181c4ade438ada53bbca295e7b1d979ac5797f7fff3cf25ab543e13105"
   }
  }
 },
 "nbformat": 4,
 "nbformat_minor": 2
}
