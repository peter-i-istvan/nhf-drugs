{
 "cells": [
  {
   "cell_type": "markdown",
   "metadata": {},
   "source": [
    "Input files:\n",
    "1. `ind.<DATASET_NAME>.x`: Contains a `pickle`d `120` by `3703` SciPy sparse matrix (in CSR format) - probably isolated nodes with 3703 features. - TODO test if empty on other dss.\n",
    "2. `ind.<DATASET_NAME>.tx`: Contains a `pickle`d `1015` by `3703` SciPy sparse matrix (in CSR format) - probably test nodes with 3703 features.\n",
    "3. `ind.<DATASET_NAME>.allx`: Contains a `pickle`d `2312` by `3703` SciPy sparse matrix (in CSR format) - probably train nodes with 3703 features. \n",
    "4. `ind.<DATASET_NAME>.graph`: A `collections.defaultdict`, `pickle`d: `int` to `list(int)`, mapping, for `3327` keys - probably an adjacency list.\n",
    "5. `ind.<DATASET_NAME>.test.index`:\n",
    "    A text file, each line contains one integer (in the case of the `citeseer` dataset there are 1000 lines, and values ranging from 2312 to 3326), most probably the test sample of **nodes/edges?**.\n",
    "\n",
    "Findings so far:\n",
    "\n",
    "The dataset uses SciPy **sparse matrices**, namely Compressed Sparse Row matrices, compressed by `pickle` (they need to be read with `picle.load()`).\n",
    "\n",
    "They have `data`, `indices`, `indptr` attributes.\n",
    "In a CSR, column indices for row i are stored in `indices[indptr[i]:indptr[i+1]]` and their corresponding values are stored in `data[indptr[i]:indptr[i+1]]`.\n",
    "\n",
    "1. `x`: of type `scipy.sparse._csr.csr_matrix`\n",
    "2. `tx`: of type `scipy.sparse._csr.csr_matrix`\n",
    "3. `allx`: of type `scipy.sparse._csr.csr_matrix`\n",
    "4. `graph`: of type `collections.defaultdict`\n",
    "\n",
    "These must be converted into `adj` and `features` sparse matrices, where:\n",
    "\n",
    "1. `adj` is an adjacency matrix (in CSR format, see [here](https://docs.scipy.org/doc/scipy/reference/generated/scipy.sparse.csr_matrix.html#scipy.sparse.csr_matrix)).\n",
    "2. `features` is a feature matrix (in LIL - list of lists - format - see [here](https://docs.scipy.org/doc/scipy/reference/generated/scipy.sparse.lil_matrix.html))"
   ]
  },
  {
   "cell_type": "code",
   "execution_count": 3,
   "metadata": {},
   "outputs": [
    {
     "data": {
      "text/html": [
       "<div>\n",
       "<style scoped>\n",
       "    .dataframe tbody tr th:only-of-type {\n",
       "        vertical-align: middle;\n",
       "    }\n",
       "\n",
       "    .dataframe tbody tr th {\n",
       "        vertical-align: top;\n",
       "    }\n",
       "\n",
       "    .dataframe thead th {\n",
       "        text-align: right;\n",
       "    }\n",
       "</style>\n",
       "<table border=\"1\" class=\"dataframe\">\n",
       "  <thead>\n",
       "    <tr style=\"text-align: right;\">\n",
       "      <th></th>\n",
       "      <th>DB00862</th>\n",
       "      <th>DB00966</th>\n",
       "    </tr>\n",
       "  </thead>\n",
       "  <tbody>\n",
       "    <tr>\n",
       "      <th>0</th>\n",
       "      <td>DB00575</td>\n",
       "      <td>DB00806</td>\n",
       "    </tr>\n",
       "    <tr>\n",
       "      <th>1</th>\n",
       "      <td>DB01242</td>\n",
       "      <td>DB08893</td>\n",
       "    </tr>\n",
       "    <tr>\n",
       "      <th>2</th>\n",
       "      <td>DB01151</td>\n",
       "      <td>DB08883</td>\n",
       "    </tr>\n",
       "    <tr>\n",
       "      <th>3</th>\n",
       "      <td>DB01235</td>\n",
       "      <td>DB01275</td>\n",
       "    </tr>\n",
       "    <tr>\n",
       "      <th>4</th>\n",
       "      <td>DB00018</td>\n",
       "      <td>DB00333</td>\n",
       "    </tr>\n",
       "    <tr>\n",
       "      <th>...</th>\n",
       "      <td>...</td>\n",
       "      <td>...</td>\n",
       "    </tr>\n",
       "    <tr>\n",
       "      <th>48508</th>\n",
       "      <td>DB00542</td>\n",
       "      <td>DB01354</td>\n",
       "    </tr>\n",
       "    <tr>\n",
       "      <th>48509</th>\n",
       "      <td>DB00476</td>\n",
       "      <td>DB01239</td>\n",
       "    </tr>\n",
       "    <tr>\n",
       "      <th>48510</th>\n",
       "      <td>DB00621</td>\n",
       "      <td>DB01120</td>\n",
       "    </tr>\n",
       "    <tr>\n",
       "      <th>48511</th>\n",
       "      <td>DB00808</td>\n",
       "      <td>DB01356</td>\n",
       "    </tr>\n",
       "    <tr>\n",
       "      <th>48512</th>\n",
       "      <td>DB00677</td>\n",
       "      <td>DB06287</td>\n",
       "    </tr>\n",
       "  </tbody>\n",
       "</table>\n",
       "<p>48513 rows × 2 columns</p>\n",
       "</div>"
      ],
      "text/plain": [
       "       DB00862  DB00966\n",
       "0      DB00575  DB00806\n",
       "1      DB01242  DB08893\n",
       "2      DB01151  DB08883\n",
       "3      DB01235  DB01275\n",
       "4      DB00018  DB00333\n",
       "...        ...      ...\n",
       "48508  DB00542  DB01354\n",
       "48509  DB00476  DB01239\n",
       "48510  DB00621  DB01120\n",
       "48511  DB00808  DB01356\n",
       "48512  DB00677  DB06287\n",
       "\n",
       "[48513 rows x 2 columns]"
      ]
     },
     "execution_count": 3,
     "metadata": {},
     "output_type": "execute_result"
    }
   ],
   "source": [
    "import pandas as pd\n",
    "\n",
    "data = pd.read_csv('db/ChCh-Miner_durgbank-chem-chem.tsv.gz',sep='\\t')\n",
    "data"
   ]
  },
  {
   "cell_type": "code",
   "execution_count": null,
   "metadata": {},
   "outputs": [],
   "source": []
  }
 ],
 "metadata": {
  "kernelspec": {
   "display_name": "Python 3 (ipykernel)",
   "language": "python",
   "name": "python3"
  },
  "language_info": {
   "codemirror_mode": {
    "name": "ipython",
    "version": 3
   },
   "file_extension": ".py",
   "mimetype": "text/x-python",
   "name": "python",
   "nbconvert_exporter": "python",
   "pygments_lexer": "ipython3",
   "version": "3.9.7"
  },
  "vscode": {
   "interpreter": {
    "hash": "e24387181c4ade438ada53bbca295e7b1d979ac5797f7fff3cf25ab543e13105"
   }
  }
 },
 "nbformat": 4,
 "nbformat_minor": 2
}
