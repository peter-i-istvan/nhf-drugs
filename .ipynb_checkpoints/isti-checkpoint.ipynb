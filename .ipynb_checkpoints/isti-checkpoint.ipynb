{
 "cells": [
  {
   "cell_type": "code",
   "execution_count": null,
   "id": "0e9b93c7",
   "metadata": {},
   "outputs": [],
   "source": [
    "# Get the DrugBank XML database\n",
    "!pip install gdown # downloading files from google drive.\n",
    "!gdown --folder https://drive.google.com/drive/folders/1hZa_Vc9dZf_oyNjQoCsO2eKVAOzz-78e\n",
    "!unzip drug-drug/drugbank_all_full_database.xml.zip"
   ]
  },
  {
   "cell_type": "code",
   "execution_count": 19,
   "id": "8693d66c",
   "metadata": {},
   "outputs": [
    {
     "name": "stdout",
     "output_type": "stream",
     "text": [
      "Archive:  drug-drug/drugbank_all_full_database.xml.zip\n",
      "  inflating: full database.xml       \n"
     ]
    }
   ],
   "source": [
    "# Decompress the graph structure descriptor TSV file\n",
    "!gzip -dk drug-drug/ChCh-Miner_durgbank-chem-chem.tsv.gz # unzip, keep original .gz file as well "
   ]
  },
  {
   "cell_type": "code",
   "execution_count": 46,
   "id": "4221d970",
   "metadata": {},
   "outputs": [
    {
     "data": {
      "text/html": [
       "<div>\n",
       "<style scoped>\n",
       "    .dataframe tbody tr th:only-of-type {\n",
       "        vertical-align: middle;\n",
       "    }\n",
       "\n",
       "    .dataframe tbody tr th {\n",
       "        vertical-align: top;\n",
       "    }\n",
       "\n",
       "    .dataframe thead th {\n",
       "        text-align: right;\n",
       "    }\n",
       "</style>\n",
       "<table border=\"1\" class=\"dataframe\">\n",
       "  <thead>\n",
       "    <tr style=\"text-align: right;\">\n",
       "      <th></th>\n",
       "      <th>0</th>\n",
       "      <th>1</th>\n",
       "    </tr>\n",
       "  </thead>\n",
       "  <tbody>\n",
       "    <tr>\n",
       "      <th>0</th>\n",
       "      <td>DB00862</td>\n",
       "      <td>DB00966</td>\n",
       "    </tr>\n",
       "    <tr>\n",
       "      <th>1</th>\n",
       "      <td>DB00575</td>\n",
       "      <td>DB00806</td>\n",
       "    </tr>\n",
       "    <tr>\n",
       "      <th>2</th>\n",
       "      <td>DB01242</td>\n",
       "      <td>DB08893</td>\n",
       "    </tr>\n",
       "    <tr>\n",
       "      <th>3</th>\n",
       "      <td>DB01151</td>\n",
       "      <td>DB08883</td>\n",
       "    </tr>\n",
       "    <tr>\n",
       "      <th>4</th>\n",
       "      <td>DB01235</td>\n",
       "      <td>DB01275</td>\n",
       "    </tr>\n",
       "    <tr>\n",
       "      <th>...</th>\n",
       "      <td>...</td>\n",
       "      <td>...</td>\n",
       "    </tr>\n",
       "    <tr>\n",
       "      <th>48509</th>\n",
       "      <td>DB00542</td>\n",
       "      <td>DB01354</td>\n",
       "    </tr>\n",
       "    <tr>\n",
       "      <th>48510</th>\n",
       "      <td>DB00476</td>\n",
       "      <td>DB01239</td>\n",
       "    </tr>\n",
       "    <tr>\n",
       "      <th>48511</th>\n",
       "      <td>DB00621</td>\n",
       "      <td>DB01120</td>\n",
       "    </tr>\n",
       "    <tr>\n",
       "      <th>48512</th>\n",
       "      <td>DB00808</td>\n",
       "      <td>DB01356</td>\n",
       "    </tr>\n",
       "    <tr>\n",
       "      <th>48513</th>\n",
       "      <td>DB00677</td>\n",
       "      <td>DB06287</td>\n",
       "    </tr>\n",
       "  </tbody>\n",
       "</table>\n",
       "<p>48514 rows × 2 columns</p>\n",
       "</div>"
      ],
      "text/plain": [
       "             0        1\n",
       "0      DB00862  DB00966\n",
       "1      DB00575  DB00806\n",
       "2      DB01242  DB08893\n",
       "3      DB01151  DB08883\n",
       "4      DB01235  DB01275\n",
       "...        ...      ...\n",
       "48509  DB00542  DB01354\n",
       "48510  DB00476  DB01239\n",
       "48511  DB00621  DB01120\n",
       "48512  DB00808  DB01356\n",
       "48513  DB00677  DB06287\n",
       "\n",
       "[48514 rows x 2 columns]"
      ]
     },
     "execution_count": 46,
     "metadata": {},
     "output_type": "execute_result"
    }
   ],
   "source": [
    "import numpy as np\n",
    "import pandas as pd\n",
    "\n",
    "edges_df = pd.read_csv('drug-drug/ChCh-Miner_durgbank-chem-chem.tsv', sep='\\t', header=None, index_col=False)\n",
    "edges_df"
   ]
  },
  {
   "cell_type": "code",
   "execution_count": 47,
   "id": "45595466",
   "metadata": {},
   "outputs": [
    {
     "data": {
      "text/plain": [
       "((1514,),\n",
       " array(['DB00005', 'DB00006', 'DB00007', ..., 'DB11256', 'DB11315',\n",
       "        'DB11354'], dtype=object))"
      ]
     },
     "execution_count": 47,
     "metadata": {},
     "output_type": "execute_result"
    }
   ],
   "source": [
    "vertices = np.unique(edges_df.values)\n",
    "vertices.shape, vertices"
   ]
  },
  {
   "cell_type": "markdown",
   "id": "c34c806d",
   "metadata": {},
   "source": [
    "## Generating the training, validation and test data\n",
    "\n",
    "The article suggests that the auto-encoder builds a latent representation ($\\textbf{Z}$) based on the $\\textbf{X}$ feature vectors and the $\\textbf{A}$ adjacency matrix, then the decoder (the generative model) predicts $\\textbf{A}$ based on $\\textbf{Z}$, with pairs of vertices whose $\\textbf{z}$ latent representations have a higher inner product being more likely to be connected.\n",
    "\n",
    "The goal of the prediction is to determine the existence of an edge between any two nodes. Any edge should be in at most one of the *train*, *validation* or *split* sets, otherwise we would have, for example, validation data that was part of the training data as well, defeating the purpose and integrity of the validation set. As a consequence, the best way to split the data is to partition the edges into *train edges*, *validation edges* and *test edges*.\n",
    "\n",
    "The model proposed uses graph convolutional layers to extract the latent variables ($\\textbf{Z}$), and graph convolutions use vertex-local structure, with information from vertices closer than $d$ hops, where $d$ is the convolutional filter's size. When selecting samples, these samples should be subgraphs (as opposed to one, or few pairs of nodes per sample, querying wether they are connected or not), to keep some of the valid information about connected-ness intact.\n",
    "\n",
    "The three-way split defines three separate subgraphs, and the samples will be subgraphs of these. During the split, it is possible that, for example, for some vertex $a$, edge $(a, x)$ is in the *train* split, $(a, y)$ is in *validation* and $(a, z)$ is in *test*, so during training, the majority of the information about the vertex's neighbourhood is lost. We solve this problem by keeping the percentage of *training* edges high, to render this situation unlikely.\n",
    "\n",
    "Furthermore, it is also possible that during the sampling of the *training* graph, *training* edges connected to the same vertex get split up across samples, so we reduce the information that the model 'sees', at that particular sample, with respect to that given vertex. This is not necessarily a problem, because this situation can condition the model to be more redundant (in the way a *dropout* layer can condition a model using fully connected layers to be more redundant). However, we will solve this problem, because so far, the feature extraction from the database does not give much to rely on, so neighbourhood and clustering information between interacting molecules can be critical. We will sample a fixed number of vertices from the *training* subgraph first, then we will include all the edges between these vertices that are in the *training* graph - also called an *induced subgraph* (same for the other splits).\n",
    "\n",
    "It is crucial, that when *loss* is calculated, we should **not penalize** the model for finding an edge that is **not in the *training* sample**, but **is present in the original graph** (the same applies to the *validation* and *test* steps as well). Supppose we have a training sample $(X, y)$, where $X=(G, features)$, $y=G'$, and the model should infer $y$ from $X$. $G$ should be a subgraph of the *training graph* (to keep the integrity of the *train*, *validation* and *test* sets - see the second paragraph of this section), but $G'$ should be the maximal subgraph *of the original graph* that has exactly the same vertices as $G$ (for correctness).\n",
    "\n",
    "Applying the principles above, representing the $G$ and $G'$ graphs as a list of edges, we generate the *train*, *validation* and *test* sets as follows:"
   ]
  },
  {
   "cell_type": "code",
   "execution_count": 65,
   "id": "f54f26ec",
   "metadata": {},
   "outputs": [
    {
     "name": "stdout",
     "output_type": "stream",
     "text": [
      "Training subgraph:\n",
      "\tEdges:29108\n",
      "\tVertices:1466\n",
      "\n",
      "Validation subgraph:\n",
      "\tEdges:9703\n",
      "\tVertices:1322\n",
      "\n",
      "Training subgraph:\n",
      "\tEdges:9703\n",
      "\tVertices:1323\n",
      "\n"
     ]
    }
   ],
   "source": [
    "# Input representation for the whole graph\n",
    "N = vertices.shape[0] # we have about 1500 vertices\n",
    "M = edges_df.shape[0] # we have about 48000 edges\n",
    "F = 10 # insert number of relevant features\n",
    "features = np.random.uniform(size=(N, F)) # insert values parsed from XML\n",
    "\n",
    "# Train-val-test split\n",
    "test_percentage = 0.2\n",
    "val_percentage = 0.2\n",
    "val_split = int((1.0 - test_percentage) * M)\n",
    "train_split = int((1.0 - val_percentage - test_percentage) * M)\n",
    "\n",
    "# Partitioning edges randomly into either category\n",
    "shuffled_edges = edges_df.sample(frac=1.0).reset_index(drop=True)\n",
    "train_edges = shuffled_edges.iloc[:train_split].values\n",
    "train_vertices = np.unique(train_edges)\n",
    "val_edges = shuffled_edges.iloc[train_split:val_split].values\n",
    "val_vertices = np.unique(val_edges)\n",
    "test_edges = shuffled_edges.iloc[val_split:].values\n",
    "test_vertices = np.unique(test_edges)\n",
    "# Print\n",
    "print(f'Training subgraph:\\n\\tEdges:{train_edges.shape[0]}\\n\\tVertices:{train_vertices.shape[0]}\\n')\n",
    "print(f'Validation subgraph:\\n\\tEdges:{val_edges.shape[0]}\\n\\tVertices:{val_vertices.shape[0]}\\n')\n",
    "print(f'Training subgraph:\\n\\tEdges:{test_edges.shape[0]}\\n\\tVertices:{test_vertices.shape[0]}\\n')\n",
    "# train_edges, val_edges, test_edges"
   ]
  },
  {
   "cell_type": "code",
   "execution_count": null,
   "id": "ac4d858e",
   "metadata": {},
   "outputs": [],
   "source": [
    "nb_vertices = 500 # number of vertices in a sample\n",
    "nb_train = 6000 # number of train samples\n",
    "nb_val = 2000 # number of validation samples\n",
    "nb_test = 2000 # number of test samples\n",
    "\n",
    "train = np.sample()\n",
    "# Sampling nodes, subgraphs\n",
    "sample_vertices_count = 500\n",
    "samples_num = 10000 # there are about 2 * 10^415 possible subsamples\n",
    "test_split = 0.2 # proportion of test samples\n",
    "val_split = 0.2 # proportion of validation samples"
   ]
  },
  {
   "cell_type": "code",
   "execution_count": null,
   "id": "5a520c98",
   "metadata": {},
   "outputs": [],
   "source": []
  }
 ],
 "metadata": {
  "kernelspec": {
   "display_name": "Python 3 (ipykernel)",
   "language": "python",
   "name": "python3"
  },
  "language_info": {
   "codemirror_mode": {
    "name": "ipython",
    "version": 3
   },
   "file_extension": ".py",
   "mimetype": "text/x-python",
   "name": "python",
   "nbconvert_exporter": "python",
   "pygments_lexer": "ipython3",
   "version": "3.9.7"
  }
 },
 "nbformat": 4,
 "nbformat_minor": 5
}
