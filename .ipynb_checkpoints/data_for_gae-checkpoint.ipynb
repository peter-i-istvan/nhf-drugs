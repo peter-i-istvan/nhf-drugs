{
 "cells": [
  {
   "cell_type": "markdown",
   "metadata": {},
   "source": [
    "Input files:\n",
    "1. `ind.<DATASET_NAME>.x`: Contains a `pickle`d `120` by `3703` SciPy sparse matrix (in CSR format) - probably isolated nodes with 3703 features. - TODO test if empty on other dss.\n",
    "2. `ind.<DATASET_NAME>.tx`: Contains a `pickle`d `1015` by `3703` SciPy sparse matrix (in CSR format) - probably test nodes with 3703 features.\n",
    "3. `ind.<DATASET_NAME>.allx`: Contains a `pickle`d `2312` by `3703` SciPy sparse matrix (in CSR format) - probably train nodes with 3703 features. \n",
    "4. `ind.<DATASET_NAME>.graph`: A `collections.defaultdict`, `pickle`d: `int` to `list(int)`, mapping, for `3327` keys - probably an adjacency list.\n",
    "5. `ind.<DATASET_NAME>.test.index`:\n",
    "    A text file, each line contains one integer (in the case of the `citeseer` dataset there are 1000 lines, and values ranging from 2312 to 3326), most probably the test sample of **nodes/edges?**.\n",
    "\n",
    "Findings so far:\n",
    "\n",
    "The dataset uses SciPy **sparse matrices**, namely Compressed Sparse Row matrices, compressed by `pickle` (they need to be read with `picle.load()`).\n",
    "\n",
    "They have `data`, `indices`, `indptr` attributes.\n",
    "In a CSR, column indices for row i are stored in `indices[indptr[i]:indptr[i+1]]` and their corresponding values are stored in `data[indptr[i]:indptr[i+1]]`.\n",
    "\n",
    "1. `x`: of type `scipy.sparse._csr.csr_matrix`\n",
    "2. `tx`: of type `scipy.sparse._csr.csr_matrix`\n",
    "3. `allx`: of type `scipy.sparse._csr.csr_matrix`\n",
    "4. `graph`: of type `collections.defaultdict`\n",
    "\n",
    "These must be converted into `adj` and `features` sparse matrices, where:\n",
    "\n",
    "1. `adj` is an adjacency matrix (in CSR format, see [here](https://docs.scipy.org/doc/scipy/reference/generated/scipy.sparse.csr_matrix.html#scipy.sparse.csr_matrix)).\n",
    "2. `features` is a feature matrix (in LIL - list of lists - format - see [here](https://docs.scipy.org/doc/scipy/reference/generated/scipy.sparse.lil_matrix.html))"
   ]
  },
  {
   "cell_type": "code",
   "execution_count": null,
   "metadata": {},
   "outputs": [],
   "source": []
  }
 ],
 "metadata": {
  "kernelspec": {
   "display_name": "Python 3 (ipykernel)",
   "language": "python",
   "name": "python3"
  },
  "language_info": {
   "codemirror_mode": {
    "name": "ipython",
    "version": 3
   },
   "file_extension": ".py",
   "mimetype": "text/x-python",
   "name": "python",
   "nbconvert_exporter": "python",
   "pygments_lexer": "ipython3",
   "version": "3.9.7"
  },
  "vscode": {
   "interpreter": {
    "hash": "e24387181c4ade438ada53bbca295e7b1d979ac5797f7fff3cf25ab543e13105"
   }
  }
 },
 "nbformat": 4,
 "nbformat_minor": 2
}
