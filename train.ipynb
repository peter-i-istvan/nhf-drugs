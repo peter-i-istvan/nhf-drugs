{
  "cells": [
    {
      "cell_type": "code",
      "execution_count": 55,
      "metadata": {
        "colab": {
          "base_uri": "https://localhost:8080/"
        },
        "id": "ywCPpp4tmrWm",
        "outputId": "3c620ac7-c588-4742-dce3-a821570dcb69"
      },
      "outputs": [
        {
          "name": "stdout",
          "output_type": "stream",
          "text": [
            "Looking in indexes: https://pypi.org/simple, https://us-python.pkg.dev/colab-wheels/public/simple/\n",
            "Requirement already satisfied: preprocess in /usr/local/lib/python3.7/dist-packages (2.0.0)\n",
            "Requirement already satisfied: future in /usr/local/lib/python3.7/dist-packages (from preprocess) (0.16.0)\n",
            "Looking in indexes: https://pypi.org/simple, https://us-python.pkg.dev/colab-wheels/public/simple/\n",
            "Requirement already satisfied: dgl in /usr/local/lib/python3.7/dist-packages (0.9.1)\n",
            "Requirement already satisfied: psutil>=5.8.0 in /usr/local/lib/python3.7/dist-packages (from dgl) (5.9.4)\n",
            "Requirement already satisfied: requests>=2.19.0 in /usr/local/lib/python3.7/dist-packages (from dgl) (2.23.0)\n",
            "Requirement already satisfied: networkx>=2.1 in /usr/local/lib/python3.7/dist-packages (from dgl) (2.6.3)\n",
            "Requirement already satisfied: numpy>=1.14.0 in /usr/local/lib/python3.7/dist-packages (from dgl) (1.21.6)\n",
            "Requirement already satisfied: scipy>=1.1.0 in /usr/local/lib/python3.7/dist-packages (from dgl) (1.7.3)\n",
            "Requirement already satisfied: tqdm in /usr/local/lib/python3.7/dist-packages (from dgl) (4.64.1)\n",
            "Requirement already satisfied: certifi>=2017.4.17 in /usr/local/lib/python3.7/dist-packages (from requests>=2.19.0->dgl) (2022.9.24)\n",
            "Requirement already satisfied: chardet<4,>=3.0.2 in /usr/local/lib/python3.7/dist-packages (from requests>=2.19.0->dgl) (3.0.4)\n",
            "Requirement already satisfied: urllib3!=1.25.0,!=1.25.1,<1.26,>=1.21.1 in /usr/local/lib/python3.7/dist-packages (from requests>=2.19.0->dgl) (1.24.3)\n",
            "Requirement already satisfied: idna<3,>=2.5 in /usr/local/lib/python3.7/dist-packages (from requests>=2.19.0->dgl) (2.10)\n"
          ]
        }
      ],
      "source": [
        "import argparse\n",
        "import os\n",
        "import time\n",
        "\n",
        "#import model       //uncomment\n",
        "import numpy as np\n",
        "import scipy.sparse as sp\n",
        "import torch\n",
        "import torch.nn.functional as F\n",
        "from input_data import load_data       \n",
        "%pip install preprocess\n",
        "from sklearn.metrics import average_precision_score, roc_auc_score\n",
        "\n",
        "%pip install dgl\n",
        "import dgl\n",
        "from dgl.data import CiteseerGraphDataset, CoraGraphDataset, PubmedGraphDataset\n",
        " \n"
      ]
    },
    {
      "cell_type": "code",
      "execution_count": null,
      "metadata": {
        "id": "lV9_LnLLc1T0"
      },
      "outputs": [],
      "source": [
        "def load_data():\n",
        "\n",
        "    data = pd.read_csv(\"data/features.csv\", header = None)\n",
        "    data[0] = data[0].str.lstrip(\"D, B, 0\")\n",
        "    data[0] = data[0].astype('int')\n",
        "    adj2 = data[0].copy()\n",
        "    data = data.set_index(data.columns[0])\n",
        "    sp.csr_matrix(data.values)\n",
        "\n",
        "    graph2 = pd.read_csv(\"db/ChCh-Miner_durgbank-chem-chem.tsv.gz\", header = None)\n",
        "    graph = graph2.copy()\n",
        "    graph[0] = graph2[0].str.split('\\t').str[0]\n",
        "    graph[1] = graph2[0].str.split('\\t').str[1]\n",
        "    graph[0] = graph[0].str.lstrip(\"D, B, 0\")\n",
        "    graph[0] = graph[0].astype('int')\n",
        "    graph[1] = graph[1].str.lstrip(\"D, B, 0\")\n",
        "    graph[1] = graph[1].astype('int')\n",
        "    graph\n",
        "\n",
        "    adj = pd.DataFrame(adj2)\n",
        "    adj = adj.set_index(adj.columns[0])\n",
        "    adj[0] = np.empty((len(adj), 0)).tolist()\n",
        "\n",
        "    for g in graph.iterrows():\n",
        "        if g[1][0] in adj.index:\n",
        "            if g[1][1] in adj.index:\n",
        "                adj[0].loc[g[1][0]].insert(g[1][0],g[1][1])\n",
        "                adj[0].loc[g[1][1]].insert(g[1][1],g[1][0])\n",
        "\n",
        "    for a in adj.iterrows():\n",
        "        if a[1][0] == []:\n",
        "            adj = adj.drop(index = a[0])\n",
        "            data = data.drop(index = a[0])\n",
        "\n",
        "    features = sp.csr_matrix(data.values)\n",
        "    adj_dict = pd.Series(adj[0], index = adj.index).to_dict()\n",
        "    adjacency = nx.adjacency_matrix(nx.from_dict_of_lists(adj_dict))\n",
        "\n",
        "    return adjacency, features"
      ]
    },
    {
      "cell_type": "code",
      "execution_count": 34,
      "metadata": {
        "id": "vLBvt4Jp8g4c"
      },
      "outputs": [],
      "source": [
        "def compute_loss_para(adj):\n",
        "    pos_weight = (adj.shape[0] * adj.shape[0] - adj.sum()) / adj.sum()\n",
        "    norm = (\n",
        "        adj.shape[0]\n",
        "        * adj.shape[0]\n",
        "        / float((adj.shape[0] * adj.shape[0] - adj.sum()) * 2)\n",
        "    )\n",
        "    weight_mask = adj.view(-1) == 1\n",
        "    weight_tensor = torch.ones(weight_mask.size(0)).to(device)\n",
        "    weight_tensor[weight_mask] = pos_weight\n",
        "    return weight_tensor, norm"
      ]
    },
    {
      "cell_type": "code",
      "execution_count": 42,
      "metadata": {
        "id": "11RD8rsqZ4zV"
      },
      "outputs": [],
      "source": [
        "def mask_test_edges(adj):\n",
        "    # Function to build test set with 10% positive links\n",
        "    # NOTE: Splits are randomized and results might slightly deviate from reported numbers in the paper.\n",
        "    # TODO: Clean up.\n",
        "\n",
        "    # Remove diagonal elements\n",
        "    adj = adj - sp.dia_matrix(\n",
        "        (adj.diagonal()[np.newaxis, :], [0]), shape=adj.shape\n",
        "    )\n",
        "    adj.eliminate_zeros()\n",
        "    # Check that diag is zero:\n",
        "    assert np.diag(adj.todense()).sum() == 0\n",
        "\n",
        "    adj_triu = sp.triu(adj)\n",
        "    adj_tuple = sparse_to_tuple(adj_triu)\n",
        "    edges = adj_tuple[0]\n",
        "    edges_all = sparse_to_tuple(adj)[0]\n",
        "    num_test = int(np.floor(edges.shape[0] / 10.0))\n",
        "    num_val = int(np.floor(edges.shape[0] / 20.0))\n",
        "\n",
        "    all_edge_idx = list(range(edges.shape[0]))\n",
        "    np.random.shuffle(all_edge_idx)\n",
        "    val_edge_idx = all_edge_idx[:num_val]\n",
        "    test_edge_idx = all_edge_idx[num_val : (num_val + num_test)]\n",
        "    test_edges = edges[test_edge_idx]\n",
        "    val_edges = edges[val_edge_idx]\n",
        "    train_edges = np.delete(\n",
        "        edges, np.hstack([test_edge_idx, val_edge_idx]), axis=0\n",
        "    )\n",
        "\n",
        "    def ismember(a, b, tol=5):\n",
        "        rows_close = np.all(np.round(a - b[:, None], tol) == 0, axis=-1)\n",
        "        return np.any(rows_close)\n",
        "\n",
        "    test_edges_false = []\n",
        "    while len(test_edges_false) < len(test_edges):\n",
        "        idx_i = np.random.randint(0, adj.shape[0])\n",
        "        idx_j = np.random.randint(0, adj.shape[0])\n",
        "        if idx_i == idx_j:\n",
        "            continue\n",
        "        if ismember([idx_i, idx_j], edges_all):\n",
        "            continue\n",
        "        if test_edges_false:\n",
        "            if ismember([idx_j, idx_i], np.array(test_edges_false)):\n",
        "                continue\n",
        "            if ismember([idx_i, idx_j], np.array(test_edges_false)):\n",
        "                continue\n",
        "        test_edges_false.append([idx_i, idx_j])\n",
        "\n",
        "    val_edges_false = []\n",
        "    while len(val_edges_false) < len(val_edges):\n",
        "        idx_i = np.random.randint(0, adj.shape[0])\n",
        "        idx_j = np.random.randint(0, adj.shape[0])\n",
        "        if idx_i == idx_j:\n",
        "            continue\n",
        "        if ismember([idx_i, idx_j], train_edges):\n",
        "            continue\n",
        "        if ismember([idx_j, idx_i], train_edges):\n",
        "            continue\n",
        "        if ismember([idx_i, idx_j], val_edges):\n",
        "            continue\n",
        "        if ismember([idx_j, idx_i], val_edges):\n",
        "            continue\n",
        "        if val_edges_false:\n",
        "            if ismember([idx_j, idx_i], np.array(val_edges_false)):\n",
        "                continue\n",
        "            if ismember([idx_i, idx_j], np.array(val_edges_false)):\n",
        "                continue\n",
        "        val_edges_false.append([idx_i, idx_j])\n",
        "\n",
        "    assert ~ismember(test_edges_false, edges_all)\n",
        "    assert ~ismember(val_edges_false, edges_all)\n",
        "    assert ~ismember(val_edges, train_edges)\n",
        "    assert ~ismember(test_edges, train_edges)\n",
        "    assert ~ismember(val_edges, test_edges)\n",
        "\n",
        "    data = np.ones(train_edges.shape[0])\n",
        "\n",
        "    # Re-build adj matrix\n",
        "    adj_train = sp.csr_matrix(\n",
        "        (data, (train_edges[:, 0], train_edges[:, 1])), shape=adj.shape\n",
        "    )\n",
        "    adj_train = adj_train + adj_train.T\n",
        "\n",
        "    # NOTE: these edge lists only contain single direction of edge!\n",
        "    return (\n",
        "        adj_train,\n",
        "        train_edges,\n",
        "        val_edges,\n",
        "        val_edges_false,\n",
        "        test_edges,\n",
        "        test_edges_false,\n",
        "    )\n",
        "\n"
      ]
    },
    {
      "cell_type": "code",
      "execution_count": 43,
      "metadata": {
        "id": "SJoexXyVZ61z"
      },
      "outputs": [],
      "source": [
        "def mask_test_edges_dgl(graph, adj):\n",
        "    src, dst = graph.edges()\n",
        "    edges_all = torch.stack([src, dst], dim=0)\n",
        "    edges_all = edges_all.t().cpu().numpy()\n",
        "    num_test = int(np.floor(edges_all.shape[0] / 10.0))\n",
        "    num_val = int(np.floor(edges_all.shape[0] / 20.0))\n",
        "\n",
        "    all_edge_idx = list(range(edges_all.shape[0]))\n",
        "    np.random.shuffle(all_edge_idx)\n",
        "    val_edge_idx = all_edge_idx[:num_val]\n",
        "    test_edge_idx = all_edge_idx[num_val : (num_val + num_test)]\n",
        "    train_edge_idx = all_edge_idx[(num_val + num_test) :]\n",
        "    test_edges = edges_all[test_edge_idx]\n",
        "    val_edges = edges_all[val_edge_idx]\n",
        "    train_edges = np.delete(\n",
        "        edges_all, np.hstack([test_edge_idx, val_edge_idx]), axis=0\n",
        "    )\n",
        "\n",
        "    def ismember(a, b, tol=5):\n",
        "        rows_close = np.all(np.round(a - b[:, None], tol) == 0, axis=-1)\n",
        "        return np.any(rows_close)\n",
        "\n",
        "    test_edges_false = []\n",
        "    while len(test_edges_false) < len(test_edges):\n",
        "        idx_i = np.random.randint(0, adj.shape[0])\n",
        "        idx_j = np.random.randint(0, adj.shape[0])\n",
        "        if idx_i == idx_j:\n",
        "            continue\n",
        "        if ismember([idx_i, idx_j], edges_all):\n",
        "            continue\n",
        "        if test_edges_false:\n",
        "            if ismember([idx_j, idx_i], np.array(test_edges_false)):\n",
        "                continue\n",
        "            if ismember([idx_i, idx_j], np.array(test_edges_false)):\n",
        "                continue\n",
        "        test_edges_false.append([idx_i, idx_j])\n",
        "\n",
        "    val_edges_false = []\n",
        "    while len(val_edges_false) < len(val_edges):\n",
        "        idx_i = np.random.randint(0, adj.shape[0])\n",
        "        idx_j = np.random.randint(0, adj.shape[0])\n",
        "        if idx_i == idx_j:\n",
        "            continue\n",
        "        if ismember([idx_i, idx_j], train_edges):\n",
        "            continue\n",
        "        if ismember([idx_j, idx_i], train_edges):\n",
        "            continue\n",
        "        if ismember([idx_i, idx_j], val_edges):\n",
        "            continue\n",
        "        if ismember([idx_j, idx_i], val_edges):\n",
        "            continue\n",
        "        if val_edges_false:\n",
        "            if ismember([idx_j, idx_i], np.array(val_edges_false)):\n",
        "                continue\n",
        "            if ismember([idx_i, idx_j], np.array(val_edges_false)):\n",
        "                continue\n",
        "        val_edges_false.append([idx_i, idx_j])\n",
        "\n",
        "    assert ~ismember(test_edges_false, edges_all)\n",
        "    assert ~ismember(val_edges_false, edges_all)\n",
        "    assert ~ismember(val_edges, train_edges)\n",
        "    assert ~ismember(test_edges, train_edges)\n",
        "    assert ~ismember(val_edges, test_edges)\n",
        "\n",
        "    # NOTE: these edge lists only contain single direction of edge!\n",
        "    return (\n",
        "        train_edge_idx,\n",
        "        val_edges,\n",
        "        val_edges_false,\n",
        "        test_edges,\n",
        "        test_edges_false,\n",
        "    )"
      ]
    },
    {
      "cell_type": "code",
      "execution_count": 44,
      "metadata": {
        "id": "QvLMyv2laCz8"
      },
      "outputs": [],
      "source": [
        "def sparse_to_tuple(sparse_mx):\n",
        "    if not sp.isspmatrix_coo(sparse_mx):\n",
        "        sparse_mx = sparse_mx.tocoo()\n",
        "    coords = np.vstack((sparse_mx.row, sparse_mx.col)).transpose()\n",
        "    values = sparse_mx.data\n",
        "    shape = sparse_mx.shape\n",
        "    return coords, values, shape"
      ]
    },
    {
      "cell_type": "code",
      "execution_count": 45,
      "metadata": {
        "id": "fyf17WEnaFif"
      },
      "outputs": [],
      "source": [
        "def preprocess_graph(adj):\n",
        "    adj = sp.coo_matrix(adj)\n",
        "    adj_ = adj + sp.eye(adj.shape[0])\n",
        "    rowsum = np.array(adj_.sum(1))\n",
        "    degree_mat_inv_sqrt = sp.diags(np.power(rowsum, -0.5).flatten())\n",
        "    adj_normalized = (\n",
        "        adj_.dot(degree_mat_inv_sqrt)\n",
        "        .transpose()\n",
        "        .dot(degree_mat_inv_sqrt)\n",
        "        .tocoo()\n",
        "    )\n",
        "    return adj_normalized, sparse_to_tuple(adj_normalized)"
      ]
    },
    {
      "cell_type": "code",
      "execution_count": 46,
      "metadata": {
        "colab": {
          "base_uri": "https://localhost:8080/",
          "height": 235
        },
        "id": "Xddpa7or2GvO",
        "outputId": "9ba36953-1c1b-47a2-ae2c-c466683ff2f2"
      },
      "outputs": [
        {
          "ename": "NameError",
          "evalue": "ignored",
          "output_type": "error",
          "traceback": [
            "\u001b[0;31m---------------------------------------------------------------------------\u001b[0m",
            "\u001b[0;31mNameError\u001b[0m                                 Traceback (most recent call last)",
            "\u001b[0;32m<ipython-input-46-138de42649c4>\u001b[0m in \u001b[0;36m<module>\u001b[0;34m\u001b[0m\n\u001b[1;32m      1\u001b[0m \u001b[0mepochs\u001b[0m \u001b[0;34m=\u001b[0m \u001b[0;36m200\u001b[0m\u001b[0;34m\u001b[0m\u001b[0;34m\u001b[0m\u001b[0m\n\u001b[0;32m----> 2\u001b[0;31m \u001b[0mtrain_edge_idx\u001b[0m \u001b[0;34m=\u001b[0m \u001b[0mtorch\u001b[0m\u001b[0;34m.\u001b[0m\u001b[0mtensor\u001b[0m\u001b[0;34m(\u001b[0m\u001b[0mtrain_edge_idx\u001b[0m\u001b[0;34m)\u001b[0m\u001b[0;34m.\u001b[0m\u001b[0mto\u001b[0m\u001b[0;34m(\u001b[0m\u001b[0mdevice\u001b[0m\u001b[0;34m)\u001b[0m\u001b[0;34m\u001b[0m\u001b[0;34m\u001b[0m\u001b[0m\n\u001b[0m\u001b[1;32m      3\u001b[0m \u001b[0mtrain_graph\u001b[0m \u001b[0;34m=\u001b[0m \u001b[0mdgl\u001b[0m\u001b[0;34m.\u001b[0m\u001b[0medge_subgraph\u001b[0m\u001b[0;34m(\u001b[0m\u001b[0mgraph\u001b[0m\u001b[0;34m,\u001b[0m \u001b[0mtrain_edge_idx\u001b[0m\u001b[0;34m,\u001b[0m \u001b[0mrelabel_nodes\u001b[0m\u001b[0;34m=\u001b[0m\u001b[0;32mFalse\u001b[0m\u001b[0;34m)\u001b[0m\u001b[0;34m\u001b[0m\u001b[0;34m\u001b[0m\u001b[0m\n\u001b[1;32m      4\u001b[0m \u001b[0mtrain_graph\u001b[0m \u001b[0;34m=\u001b[0m \u001b[0mtrain_graph\u001b[0m\u001b[0;34m.\u001b[0m\u001b[0mto\u001b[0m\u001b[0;34m(\u001b[0m\u001b[0mdevice\u001b[0m\u001b[0;34m)\u001b[0m\u001b[0;34m\u001b[0m\u001b[0;34m\u001b[0m\u001b[0m\n\u001b[1;32m      5\u001b[0m \u001b[0madj\u001b[0m \u001b[0;34m=\u001b[0m \u001b[0mtrain_graph\u001b[0m\u001b[0;34m.\u001b[0m\u001b[0madjacency_matrix\u001b[0m\u001b[0;34m(\u001b[0m\u001b[0;34m)\u001b[0m\u001b[0;34m.\u001b[0m\u001b[0mto_dense\u001b[0m\u001b[0;34m(\u001b[0m\u001b[0;34m)\u001b[0m\u001b[0;34m.\u001b[0m\u001b[0mto\u001b[0m\u001b[0;34m(\u001b[0m\u001b[0mdevice\u001b[0m\u001b[0;34m)\u001b[0m\u001b[0;34m\u001b[0m\u001b[0;34m\u001b[0m\u001b[0m\n",
            "\u001b[0;31mNameError\u001b[0m: name 'train_edge_idx' is not defined"
          ]
        }
      ],
      "source": [
        "epochs = 200\n",
        "train_edge_idx = torch.tensor(train_edge_idx).to(device)\n",
        "train_graph = dgl.edge_subgraph(graph, train_edge_idx, relabel_nodes=False)\n",
        "train_graph = train_graph.to(device)\n",
        "adj = train_graph.adjacency_matrix().to_dense().to(device)\n",
        "norm = compute_loss_para(adj)"
      ]
    },
    {
      "cell_type": "code",
      "execution_count": 54,
      "metadata": {
        "colab": {
          "base_uri": "https://localhost:8080/",
          "height": 165
        },
        "id": "LVKU5J5Aa8ax",
        "outputId": "5da4b240-e073-4607-ddf3-714e6c8de04e"
      },
      "outputs": [
        {
          "ename": "NameError",
          "evalue": "ignored",
          "output_type": "error",
          "traceback": [
            "\u001b[0;31m---------------------------------------------------------------------------\u001b[0m",
            "\u001b[0;31mNameError\u001b[0m                                 Traceback (most recent call last)",
            "\u001b[0;32m<ipython-input-54-d49d8b7a5765>\u001b[0m in \u001b[0;36m<module>\u001b[0;34m\u001b[0m\n\u001b[0;32m----> 1\u001b[0;31m \u001b[0mvgae_model\u001b[0m \u001b[0;34m=\u001b[0m \u001b[0mmodel\u001b[0m\u001b[0;34m.\u001b[0m\u001b[0mVGAEModel\u001b[0m\u001b[0;34m(\u001b[0m\u001b[0min_dim\u001b[0m\u001b[0;34m,\u001b[0m \u001b[0margs\u001b[0m\u001b[0;34m.\u001b[0m\u001b[0mhidden1\u001b[0m\u001b[0;34m,\u001b[0m \u001b[0margs\u001b[0m\u001b[0;34m.\u001b[0m\u001b[0mhidden2\u001b[0m\u001b[0;34m)\u001b[0m\u001b[0;34m\u001b[0m\u001b[0;34m\u001b[0m\u001b[0m\n\u001b[0m",
            "\u001b[0;31mNameError\u001b[0m: name 'model' is not defined"
          ]
        }
      ],
      "source": [
        "vgae_model = model.VGAEModel(in_dim, args.hidden1, args.hidden2)\n"
      ]
    },
    {
      "cell_type": "code",
      "execution_count": 53,
      "metadata": {
        "colab": {
          "base_uri": "https://localhost:8080/",
          "height": 235
        },
        "id": "AvntgBQS2Jae",
        "outputId": "760e91ea-3ab5-4f9e-a95b-b082ff5bee17"
      },
      "outputs": [
        {
          "ename": "NameError",
          "evalue": "ignored",
          "output_type": "error",
          "traceback": [
            "\u001b[0;31m---------------------------------------------------------------------------\u001b[0m",
            "\u001b[0;31mNameError\u001b[0m                                 Traceback (most recent call last)",
            "\u001b[0;32m<ipython-input-53-39677f689844>\u001b[0m in \u001b[0;36m<module>\u001b[0;34m\u001b[0m\n\u001b[1;32m     16\u001b[0m                 \u001b[0;34m+\u001b[0m \u001b[0;36m2\u001b[0m \u001b[0;34m*\u001b[0m \u001b[0mvgae_model\u001b[0m\u001b[0;34m.\u001b[0m\u001b[0mlog_std\u001b[0m\u001b[0;34m\u001b[0m\u001b[0;34m\u001b[0m\u001b[0m\n\u001b[1;32m     17\u001b[0m                 \u001b[0;34m-\u001b[0m \u001b[0mvgae_model\u001b[0m\u001b[0;34m.\u001b[0m\u001b[0mmean\u001b[0m\u001b[0;34m**\u001b[0m\u001b[0;36m2\u001b[0m\u001b[0;34m\u001b[0m\u001b[0;34m\u001b[0m\u001b[0m\n\u001b[0;32m---> 18\u001b[0;31m                 \u001b[0;34m-\u001b[0m \u001b[0mtorch\u001b[0m\u001b[0;34m.\u001b[0m\u001b[0mexp\u001b[0m\u001b[0;34m(\u001b[0m\u001b[0mvgae_model\u001b[0m\u001b[0;34m.\u001b[0m\u001b[0mlog_std\u001b[0m\u001b[0;34m)\u001b[0m \u001b[0;34m**\u001b[0m \u001b[0;36m2\u001b[0m\u001b[0;34m\u001b[0m\u001b[0;34m\u001b[0m\u001b[0m\n\u001b[0m\u001b[1;32m     19\u001b[0m             )\n\u001b[1;32m     20\u001b[0m             \u001b[0;34m.\u001b[0m\u001b[0msum\u001b[0m\u001b[0;34m(\u001b[0m\u001b[0;36m1\u001b[0m\u001b[0;34m)\u001b[0m\u001b[0;34m\u001b[0m\u001b[0;34m\u001b[0m\u001b[0m\n",
            "\u001b[0;31mNameError\u001b[0m: name 'vgae_model' is not defined"
          ]
        }
      ],
      "source": [
        "for epoch in range(epochs):\n",
        "        t = time.time()\n",
        "\n",
        "        # Training and validation using a full graph\n",
        "       #vgae_model.train()\n",
        "\n",
        "        #logits = vgae_model.forward(graph, features)\n",
        "        # loss = norm * F.binary_cross_entropy(\n",
        "        #     logits.view(-1), adj_label.to_dense().view(-1), weight=weight_tensor\n",
        "        # )\n",
        "        kl_divergence = (\n",
        "            0.5\n",
        "            # / logits.size(0)\n",
        "            * (\n",
        "                1\n",
        "                + 2 * vgae_model.log_std\n",
        "                - vgae_model.mean**2\n",
        "                - torch.exp(vgae_model.log_std) ** 2\n",
        "            )\n",
        "            .sum(1)\n",
        "            .mean()\n",
        "        )\n",
        "        loss -= kl_divergence\n",
        "\n",
        "        # backward\n",
        "        optimizer.zero_grad()\n",
        "        loss.backward()\n",
        "        optimizer.step()\n",
        "\n",
        "        train_acc = get_acc(logits, adj_label)\n",
        "\n",
        "        val_roc, val_ap = get_scores(val_edges, val_edges_false, logits)\n",
        "\n",
        "        # Print out performance\n",
        "        print(\n",
        "            \"Epoch:\",\n",
        "            \"%04d\" % (epoch + 1),\n",
        "            \"train_loss=\",\n",
        "            \"{:.5f}\".format(loss.item()),\n",
        "            \"train_acc=\",\n",
        "            \"{:.5f}\".format(train_acc),\n",
        "            \"val_roc=\",\n",
        "            \"{:.5f}\".format(val_roc),\n",
        "            \"val_ap=\",\n",
        "            \"{:.5f}\".format(val_ap),\n",
        "            \"time=\",\n",
        "            \"{:.5f}\".format(time.time() - t),\n",
        "        )\n"
      ]
    }
  ],
  "metadata": {
    "colab": {
      "provenance": []
    },
    "kernelspec": {
      "display_name": "Python 3",
      "name": "python3"
    },
    "language_info": {
      "name": "python"
    }
  },
  "nbformat": 4,
  "nbformat_minor": 0
}
